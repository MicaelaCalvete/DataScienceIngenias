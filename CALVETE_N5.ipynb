{
  "nbformat": 4,
  "nbformat_minor": 0,
  "metadata": {
    "kernelspec": {
      "display_name": "Python 3",
      "language": "python",
      "name": "python3"
    },
    "language_info": {
      "codemirror_mode": {
        "name": "ipython",
        "version": 3
      },
      "file_extension": ".py",
      "mimetype": "text/x-python",
      "name": "python",
      "nbconvert_exporter": "python",
      "pygments_lexer": "ipython3",
      "version": "3.7.3"
    },
    "colab": {
      "provenance": []
    }
  },
  "cells": [
    {
      "cell_type": "markdown",
      "metadata": {
        "id": "Gp2WddtV9IwG"
      },
      "source": [
        "# Programa Ingenias+ Data Science"
      ]
    },
    {
      "cell_type": "markdown",
      "metadata": {
        "id": "H4M1yVbf9IwH"
      },
      "source": [
        "Como dijimos en clases anteriores, Python tiene implementadas muchas librerias para poder trabajar con datos. En la clase de hoy trabajaremos con una de ellas: `Numpy`."
      ]
    },
    {
      "cell_type": "markdown",
      "metadata": {
        "id": "GdTT8WeL9IwI"
      },
      "source": [
        "Antes de comenzar, vamos a hablar un poco de esta libreria o modulo.\n",
        "\n",
        "**Numpy** es una librería optimizada para realizar cálculos numéricos con vectores y matrices. A diferencia de otros lenguajes de programación, Python no posee en su estructura central la figura de matrices. Eso quiere decir que para poder trabajar con esta estructura de datos deberiamos trabajar con listas de listas. NumPy introduce el concepto de arrays o matrices."
      ]
    },
    {
      "cell_type": "markdown",
      "metadata": {
        "id": "qWkq3EHK9IwK"
      },
      "source": [
        "Al ser de código abierto, `numpy` posee una documentación muy amplia que es **SIEMPRE RECOMENDABLE** consultar."
      ]
    },
    {
      "cell_type": "markdown",
      "metadata": {
        "id": "nxe3KLUO9IwL"
      },
      "source": [
        "- [Documentacion NumPy](https://devdocs.io/numpy/)"
      ]
    },
    {
      "cell_type": "markdown",
      "metadata": {
        "id": "l1Ay3nSs9IwN"
      },
      "source": [
        "## Clase 4: Introduccion a NumPy"
      ]
    },
    {
      "cell_type": "markdown",
      "metadata": {
        "id": "X03mviQS9IyL"
      },
      "source": [
        "# Ejercicios\n",
        "\n",
        "1. Crear un arreglo de ceros de longitud 12\n",
        "2. Crear un arreglo de longitud 10 con ceros en todas sus posiciones y un 10 en la posición número 5\n",
        "3. Crear un arreglo que tenga los números del 10 al 49\n",
        "4. Crear una arreglo 2d de shape (3, 3) que tenga los números del 0 al 8\n",
        "5. Crear un arreglo de números aleatorios de longitud 100 y obtener su media y varianza\n",
        "6. Calcular la media de un arreglo usando np.sum\n",
        "7. Calcular la varianza de un arreglo usando np.sum y np.mean\n",
        "8. Crear un array de números aleatorios usando np.random.randn.\n"
      ]
    },
    {
      "cell_type": "code",
      "source": [
        "# Importamos la biblioteca Numpy\n",
        "import numpy as np"
      ],
      "metadata": {
        "id": "pi3q1M-qqu3n"
      },
      "execution_count": 1,
      "outputs": []
    },
    {
      "cell_type": "code",
      "source": [
        "#1\n",
        "arr= np.zeros(12)\n",
        "print(arr)"
      ],
      "metadata": {
        "colab": {
          "base_uri": "https://localhost:8080/"
        },
        "id": "chHE4qFdkN9E",
        "outputId": "32aef4d5-1649-40e0-ed34-3f499658ea63"
      },
      "execution_count": 2,
      "outputs": [
        {
          "output_type": "stream",
          "name": "stdout",
          "text": [
            "[0. 0. 0. 0. 0. 0. 0. 0. 0. 0. 0. 0.]\n"
          ]
        }
      ]
    },
    {
      "cell_type": "code",
      "source": [
        "#2\n",
        "arr=np.zeros(10)\n",
        "arr[4]=10\n",
        "print(arr)"
      ],
      "metadata": {
        "id": "INmvDhGRbK9j",
        "colab": {
          "base_uri": "https://localhost:8080/"
        },
        "outputId": "2dee456d-08b5-464e-f484-70bbb0bf1673"
      },
      "execution_count": 3,
      "outputs": [
        {
          "output_type": "stream",
          "name": "stdout",
          "text": [
            "[ 0.  0.  0.  0. 10.  0.  0.  0.  0.  0.]\n"
          ]
        }
      ]
    },
    {
      "cell_type": "code",
      "source": [
        "#3\n",
        "arr= np.arange(10,50)\n",
        "print(arr)"
      ],
      "metadata": {
        "colab": {
          "base_uri": "https://localhost:8080/"
        },
        "id": "JdCq2d9ZbKyn",
        "outputId": "7e1cecae-82f8-4b85-a393-d9504ba19067"
      },
      "execution_count": 4,
      "outputs": [
        {
          "output_type": "stream",
          "name": "stdout",
          "text": [
            "[10 11 12 13 14 15 16 17 18 19 20 21 22 23 24 25 26 27 28 29 30 31 32 33\n",
            " 34 35 36 37 38 39 40 41 42 43 44 45 46 47 48 49]\n"
          ]
        }
      ]
    },
    {
      "cell_type": "code",
      "source": [
        "#4\n",
        "arr2d= np.arange(9).reshape(3,3)\n",
        "print(arr2d)"
      ],
      "metadata": {
        "colab": {
          "base_uri": "https://localhost:8080/"
        },
        "id": "AY3UuoDfbKQQ",
        "outputId": "0bffb5cb-b45e-41fe-f455-06c3130355fd"
      },
      "execution_count": 10,
      "outputs": [
        {
          "output_type": "stream",
          "name": "stdout",
          "text": [
            "[[0 1 2]\n",
            " [3 4 5]\n",
            " [6 7 8]]\n"
          ]
        }
      ]
    },
    {
      "cell_type": "code",
      "source": [
        "#5\n",
        "arrRandom= np.random.randint(0,100,size=100)\n",
        "print(arrRandom)\n",
        "media= arrRandom.mean()\n",
        "print(f\"la media es: {media}\")\n",
        "varianza= arrRandom.var()\n",
        "print(f\"la varianza es: {varianza}\")\n",
        "\n"
      ],
      "metadata": {
        "colab": {
          "base_uri": "https://localhost:8080/"
        },
        "id": "FMn5ojB9bJpL",
        "outputId": "f4cef967-2a2e-49cd-efbf-a9e53148870d"
      },
      "execution_count": 27,
      "outputs": [
        {
          "output_type": "stream",
          "name": "stdout",
          "text": [
            "[47 31 59 98 37 57 84 38 59 70 59  7 39 87 55 61 70 79 80 53 82 30 48 62\n",
            " 61 25 52 74 17 45 72 82 49 95 40 62 72 99 75 48 40 56 65 46 72 30 43 82\n",
            " 10 70 61 71 24 45 17 68 44 72 66 13 72 52 71 77 74 78 79 29 20 11 95 60\n",
            " 24 95 95 55 43 59 41 21 58 31 41 50 19 54 77 59 24 38 70 14  6 94 89 63\n",
            " 23 44 21 19]\n",
            "la media es: 54.0\n",
            "la varianza es: 569.16\n"
          ]
        }
      ]
    },
    {
      "cell_type": "code",
      "source": [
        "#6\n",
        "arrMedia= np.array([1,2,3,4,5,6,7,8,9,10])\n",
        "media= np.sum(arrMedia)/len(arrMedia)\n",
        "print(media)"
      ],
      "metadata": {
        "colab": {
          "base_uri": "https://localhost:8080/"
        },
        "id": "AFMDLF04unRY",
        "outputId": "e74a4724-e195-4532-d993-6e974faa9754"
      },
      "execution_count": 28,
      "outputs": [
        {
          "output_type": "stream",
          "name": "stdout",
          "text": [
            "5.5\n"
          ]
        }
      ]
    },
    {
      "cell_type": "code",
      "source": [
        "#7\n",
        "arrVarianza= np.array([1,23,43,2,5,6,4,46])\n",
        "varianza= np.sum((arrVarianza-np.mean(arrVarianza))**2)/len(arrVarianza)\n",
        "print(varianza)"
      ],
      "metadata": {
        "colab": {
          "base_uri": "https://localhost:8080/"
        },
        "id": "O5EOBlBiu60S",
        "outputId": "8050d9d2-ba12-4fdf-a732-bf418d75a5c5"
      },
      "execution_count": 29,
      "outputs": [
        {
          "output_type": "stream",
          "name": "stdout",
          "text": [
            "307.9375\n"
          ]
        }
      ]
    },
    {
      "cell_type": "code",
      "source": [
        "#8\n",
        "arrRandom1= np.random.randn(8)\n",
        "print(arrRandom1)\n",
        "#usando numeros enteros\n",
        "arrRandom2=np.random.randint(0,100,size=15)\n",
        "print(arrRandom2)"
      ],
      "metadata": {
        "colab": {
          "base_uri": "https://localhost:8080/"
        },
        "id": "gIlc7ab4wC8e",
        "outputId": "3db6c839-ee49-4868-c431-3aa6dfa47182"
      },
      "execution_count": 34,
      "outputs": [
        {
          "output_type": "stream",
          "name": "stdout",
          "text": [
            "[ 0.75287708 -1.74753167  0.66816293  2.27203136  0.12433503 -1.18634559\n",
            "  1.72526989 -0.94294342]\n",
            "[98 12 95  7 69 82 82 45  1 39 98 18 84 39 11]\n"
          ]
        }
      ]
    }
  ]
}